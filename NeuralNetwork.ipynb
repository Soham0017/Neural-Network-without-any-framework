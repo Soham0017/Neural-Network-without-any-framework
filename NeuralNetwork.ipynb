{
  "nbformat": 4,
  "nbformat_minor": 0,
  "metadata": {
    "colab": {
      "provenance": []
    },
    "kernelspec": {
      "name": "python3",
      "display_name": "Python 3"
    },
    "language_info": {
      "name": "python"
    }
  },
  "cells": [
    {
      "cell_type": "code",
      "execution_count": 55,
      "metadata": {
        "id": "sqnEU1BDB93z"
      },
      "outputs": [],
      "source": [
        "# Importing necessary libraries\n",
        "import numpy as np\n",
        "import matplotlib.pyplot as plt\n",
        "\n",
        "plt.style.use('ggplot')"
      ]
    },
    {
      "cell_type": "code",
      "source": [
        "inputs = [[1,2,3.5,1.25],\n",
        "          [2.1, 1.35, -0.25, 3],\n",
        "          [4.8, 0.9, 3.1, 0.2],\n",
        "          [1.45, -0.95, 0.80, 1]]\n",
        "\n",
        "weights = [[0.2, 0.8, -0.5, 1.0],\n",
        "          [0.32, -0.85, 0.12, 1.25],\n",
        "          [-0.25, 1.32, 0.19, 2.2]]\n",
        "\n",
        "biases = [2.0, 3.0, -5.0]\n",
        "\n",
        "# .T here means we're taking the transpose of the matrix.\n",
        "# Since we're doing matrix multiplication here.\n",
        "outputs = np.dot(inputs, np.array(weights).T) + biases\n",
        "print(outputs)"
      ],
      "metadata": {
        "colab": {
          "base_uri": "https://localhost:8080/"
        },
        "id": "W39uBmxpCJQ8",
        "outputId": "a976d61a-5fff-49bc-8bc5-34682adcae7f"
      },
      "execution_count": 56,
      "outputs": [
        {
          "output_type": "stream",
          "name": "stdout",
          "text": [
            "[[ 3.3     3.6025  0.805 ]\n",
            " [ 6.625   6.2445  2.8095]\n",
            " [ 2.33    4.393  -3.983 ]\n",
            " [ 2.13    5.6175 -4.2645]]\n"
          ]
        }
      ]
    },
    {
      "cell_type": "code",
      "source": [
        "inputs = [[1,2,3.5,1.25],\n",
        "          [2.1, 1.35, -0.25, 3],\n",
        "          [4.8, 0.9, 3.1, 0.2],\n",
        "          [1.45, -0.95, 0.80, 1]]\n",
        "\n",
        "# 3 neurons - Layer 1\n",
        "weights1 = [[0.2, 0.8, -0.5, 1.0],\n",
        "          [0.32, -0.85, 0.12, 1.25],\n",
        "          [-0.25, 1.32, 0.19, 2.2]]\n",
        "\n",
        "biases1 = [2.0, 3.0, -5.0]\n",
        "\n",
        "outputs1 = np.dot(inputs, np.array(weights1).T) + biases1\n",
        "\n",
        "print(outputs1)\n",
        "print('SHAPE:', outputs1.shape)\n",
        "\n",
        "# 2 Neurons - Layer 2\n",
        "weights2 = [[0.12, 0.25, -1.1],\n",
        "           [1.24, -0.74, 3.45]]\n",
        "\n",
        "biases2 = [0.25, -0.38]\n",
        "\n",
        "outputs2 = np.dot(outputs1, np.array(weights2).T) + biases2\n",
        "print(outputs2)\n",
        "print('SHAPE:', outputs2.shape)"
      ],
      "metadata": {
        "colab": {
          "base_uri": "https://localhost:8080/"
        },
        "id": "qJZDIYynCUph",
        "outputId": "73debdd1-988e-47ee-c5f5-d61c7f0f5f18"
      },
      "execution_count": 57,
      "outputs": [
        {
          "output_type": "stream",
          "name": "stdout",
          "text": [
            "[[ 3.3     3.6025  0.805 ]\n",
            " [ 6.625   6.2445  2.8095]\n",
            " [ 2.33    4.393  -3.983 ]\n",
            " [ 2.13    5.6175 -4.2645]]\n",
            "SHAPE: (4, 3)\n",
            "[[  0.661125   3.8234  ]\n",
            " [ -0.484325  12.906845]\n",
            " [  6.00915  -14.48297 ]\n",
            " [  6.600925 -16.608275]]\n",
            "SHAPE: (4, 2)\n"
          ]
        }
      ]
    },
    {
      "cell_type": "code",
      "source": [
        "def create_data(samples, classes):\n",
        "    X = np.zeros((samples*classes, 2))\n",
        "    y = np.zeros(samples*classes, dtype='uint8')\n",
        "    for class_number in range(classes):\n",
        "        ix = range(samples*class_number, samples*(class_number+1))\n",
        "        r = np.linspace(0.0, 1, samples)\n",
        "        t = np.linspace(class_number*4, (class_number+1)*4, samples) + np.random.randn(samples)*0.2\n",
        "        X[ix] = np.c_[r*np.sin(t*2.5), r*np.cos(t*2.5)]\n",
        "        y[ix] = class_number\n",
        "    return X, y\n",
        "# Dataset creation:\n",
        "X, y = create_data(samples=100, classes=3)\n",
        "# How our data looks like?\n",
        "print('X:', X[75], 'y:', y[75])\n",
        "# Source - https://github.com/Sentdex/nnfs/blob/master/nnfs/datasets/spiral.py"
      ],
      "metadata": {
        "colab": {
          "base_uri": "https://localhost:8080/"
        },
        "id": "5eRJfEULDKvq",
        "outputId": "ca7d8e96-485f-4908-f4ed-a411a188d30c"
      },
      "execution_count": 58,
      "outputs": [
        {
          "output_type": "stream",
          "name": "stdout",
          "text": [
            "X: [0.73306881 0.19113124] y: 0\n"
          ]
        }
      ]
    },
    {
      "cell_type": "code",
      "source": [
        "plt.scatter(X[:,0], X[:,1], c=y, cmap='brg')\n",
        "plt.show()"
      ],
      "metadata": {
        "colab": {
          "base_uri": "https://localhost:8080/",
          "height": 430
        },
        "id": "ncjp1Po_DQ5E",
        "outputId": "713dac8e-71e6-4fec-fb6c-7ada3789305c"
      },
      "execution_count": 59,
      "outputs": [
        {
          "output_type": "display_data",
          "data": {
            "text/plain": [
              "<Figure size 640x480 with 1 Axes>"
            ],
            "image/png": "[encoded data removed]"
          },
          "metadata": {}
        }
      ]
    },
    {
      "cell_type": "code",
      "source": [
        "class Layer:\n",
        "    def __init__(self, n_inputs, n_neurons):\n",
        "        # Setting weights to be randomly initialized and biases to 0 respectively.\n",
        "        self.weights = 0.01*np.random.randn(n_inputs, n_neurons)\n",
        "        self.biases = np.zeros((1, n_neurons))\n",
        "\n",
        "    def forward(self, inputs):\n",
        "        self.inputs = inputs\n",
        "        self.output = np.dot(inputs, self.weights) + self.biases\n",
        "\n",
        "    def backward(self, dvalues):\n",
        "        self.dweights = np.dot(self.inputs.T, dvalues)\n",
        "        self.dbiases = np.sum(dvalues, axis=0, keepdims=True)\n",
        "        self.dinputs = np.dot(dvalues, self.weights.T)"
      ],
      "metadata": {
        "id": "iy2dEO9nDUtu"
      },
      "execution_count": 60,
      "outputs": []
    },
    {
      "cell_type": "code",
      "source": [
        "# I'm just implementing ReLU activation and Softmax activation here.\n",
        "class ReLU:\n",
        "    def forward(self, inputs):\n",
        "        self.inputs = inputs\n",
        "        self.output = np.maximum(0, inputs)\n",
        "\n",
        "    def backward(self, dvalues):\n",
        "        self.dinputs = dvalues.copy()\n",
        "        self.dinputs[self.inputs<=0] = 0\n",
        "\n",
        "class Softmax:\n",
        "    def forward(self, inputs):\n",
        "        exp_values = np.exp(inputs-np.max(inputs, axis=1, keepdims=True))\n",
        "        probabilities = exp_values/np.sum(exp_values, axis=1, keepdims=True)\n",
        "        self.output = probabilities\n",
        "\n",
        "    def backward(self, dvalues):\n",
        "        self.dinputs = np.empty_like(dvalues)\n",
        "\n",
        "        for index, (single_output, single_dvalues) in enumerate(zip(self.output, dvalues)):\n",
        "            single_output = single_output.reshape(-1, -1)\n",
        "            jacobian_matrix = np.diagflat(single_output)-np.dot(single_output, single_output.T)\n",
        "            self.dinputs[index] = np.dot(jacobian_matrix, single_dvalues)"
      ],
      "metadata": {
        "id": "TvFELxHADaCQ"
      },
      "execution_count": 61,
      "outputs": []
    },
    {
      "cell_type": "code",
      "source": [
        "class Loss:\n",
        "    def calculate(self, output, y):\n",
        "        sample_losses = self.forward(output, y)\n",
        "        data_loss = np.mean(sample_losses)\n",
        "        return data_loss\n",
        "\n",
        "class Loss_CategoricalCrossentropy(Loss):\n",
        "    def forward(self, y_pred, y_true):\n",
        "        samples = len(y_pred)\n",
        "        y_pred_clipped = np.clip(y_pred, 1e-7, 1-1e-7)\n",
        "\n",
        "        if len(y_true.shape) == 1:\n",
        "            correct_confidences = y_pred_clipped[range(samples), y_true]\n",
        "\n",
        "        elif len(y_true.shape) == 2:\n",
        "            correct_confidences = np.sum(y_pred_clipped*y_true, axis=1)\n",
        "\n",
        "        negative_log_likelihoods = -np.log(correct_confidences)\n",
        "        return negative_log_likelihoods\n",
        "\n",
        "    def backward(self, dvalues, y_true):\n",
        "        samples = len(dvalues)\n",
        "        labels = len(dvalues[0])\n",
        "\n",
        "        if len(y_true.shape)==1:\n",
        "            y_true = np.eye(labels)[y_true]\n",
        "\n",
        "        self.dinputs = -y_true/dvalues\n",
        "        self.dinputs = self.dinputs/samples\n",
        "\n",
        "# Softmax Classifier - combined Softmax Activation and\n",
        "# cross-entropy loss for faster backward step\n",
        "class Activation_Softmax_Loss_CategoricalCrossentropy():\n",
        "    def __init__(self):\n",
        "        self.activation = Softmax()\n",
        "        self.loss = Loss_CategoricalCrossentropy()\n",
        "\n",
        "    def forward(self, inputs, y_true):\n",
        "        self.activation.forward(inputs)\n",
        "        self.output = self.activation.output\n",
        "        return self.loss.calculate(self.output, y_true)\n",
        "\n",
        "    def backward(self, dvalues, y_true):\n",
        "        samples = len(dvalues)\n",
        "\n",
        "        if len(y_true.shape)==2:\n",
        "            y_true = np.argmax(y_true, axis=1)\n",
        "\n",
        "        self.dinputs = dvalues.copy()\n",
        "        self.dinputs[range(samples), y_true] -= 1\n",
        "        self.dinputs = self.dinputs/samples"
      ],
      "metadata": {
        "id": "AtusAGuzDfo7"
      },
      "execution_count": 62,
      "outputs": []
    },
    {
      "cell_type": "code",
      "source": [
        "class Optimizer_SGD:\n",
        "    def __init__(self, learning_rate=1.0):\n",
        "        self.learning_rate = learning_rate\n",
        "    def update_params(self, layer):\n",
        "        layer.weights += -(self.learning_rate)*(layer.dweights)\n",
        "        layer.biases += -(self.learning_rate)*(layer.dbiases)"
      ],
      "metadata": {
        "id": "tEdhkuc4DqNL"
      },
      "execution_count": 63,
      "outputs": []
    },
    {
      "cell_type": "code",
      "source": [
        "dense1 = Layer(2, 64)\n",
        "activation1 = ReLU()\n",
        "dense2 = Layer(64, 3)\n",
        "loss_activation = Activation_Softmax_Loss_CategoricalCrossentropy()\n",
        "optimizer = Optimizer_SGD()\n",
        "\n",
        "dense1.forward(X)\n",
        "activation1.forward(dense1.output)\n",
        "dense2.forward(activation1.output)\n",
        "\n",
        "loss = loss_activation.forward(dense2.output, y)\n",
        "# Output of first 3 samples:\n",
        "print(loss_activation.output[:5])\n",
        "\n",
        "# Loss Value\n",
        "print('LOSS:', loss)\n",
        "\n",
        "predictions = np.argmax(loss_activation.output, axis=1)\n",
        "if len(y.shape)==2:\n",
        "    y = np.argmax(y, axis=1)\n",
        "accuracy = np.mean(predictions==y)\n",
        "\n",
        "print('Accuracy:', accuracy)"
      ],
      "metadata": {
        "colab": {
          "base_uri": "https://localhost:8080/"
        },
        "id": "gYTLKuSODs8q",
        "outputId": "9f50b0be-adf1-43a2-e440-2641247e5330"
      },
      "execution_count": 64,
      "outputs": [
        {
          "output_type": "stream",
          "name": "stdout",
          "text": [
            "[[0.33333333 0.33333333 0.33333333]\n",
            " [0.33333654 0.33333091 0.33333254]\n",
            " [0.33334001 0.33332877 0.33333122]\n",
            " [0.33333381 0.33332892 0.33333727]\n",
            " [0.33333823 0.33332352 0.33333825]]\n",
            "LOSS: 1.0986235588551\n",
            "Accuracy: 0.3333333333333333\n"
          ]
        }
      ]
    },
    {
      "cell_type": "code",
      "source": [
        "# Backward Pass\n",
        "loss_activation.backward(loss_activation.output, y)\n",
        "dense2.backward(loss_activation.dinputs)\n",
        "activation1.backward(dense2.dinputs)\n",
        "dense1.backward(activation1.dinputs)"
      ],
      "metadata": {
        "id": "hLQxD0XTDyFd"
      },
      "execution_count": 65,
      "outputs": []
    },
    {
      "cell_type": "code",
      "source": [
        "# Backpropagation for multiple iterations:\n",
        "EPOCHS = 10000\n",
        "for epoch in range(EPOCHS):\n",
        "    dense1.forward(X)\n",
        "    activation1.forward(dense1.output)\n",
        "    dense2.forward(activation1.output)\n",
        "    loss = loss_activation.forward(dense2.output, y)\n",
        "    predictions = np.argmax(loss_activation.output, axis=1)\n",
        "    if len(y.shape)==2:\n",
        "        y = np.argmax(y, axis=1)\n",
        "    accuracy = np.mean(predictions==y)\n",
        "\n",
        "    if epoch%100==0:\n",
        "        print(f'EPOCH: {epoch}', f'Accuracy: {accuracy}', f'Loss: {loss}')\n",
        "\n",
        "    loss_activation.backward(loss_activation.output, y)\n",
        "    dense2.backward(loss_activation.dinputs)\n",
        "    activation1.backward(dense2.dinputs)\n",
        "    dense1.backward(activation1.dinputs)\n",
        "\n",
        "    optimizer.update_params(dense1)\n",
        "    optimizer.update_params(dense2)"
      ],
      "metadata": {
        "colab": {
          "base_uri": "https://localhost:8080/"
        },
        "id": "bIfHTvDrD2L9",
        "outputId": "733f6506-6e33-4302-963f-866aff6214ae"
      },
      "execution_count": 70,
      "outputs": [
        {
          "output_type": "stream",
          "name": "stdout",
          "text": [
            "EPOCH: 0 Accuracy: 0.8533333333333334 Loss: 0.3874158694113882\n",
            "EPOCH: 100 Accuracy: 0.8366666666666667 Loss: 0.46785143033586557\n",
            "EPOCH: 200 Accuracy: 0.8166666666666667 Loss: 0.4242717912913961\n",
            "EPOCH: 300 Accuracy: 0.7766666666666666 Loss: 0.5582376685294199\n",
            "EPOCH: 400 Accuracy: 0.7966666666666666 Loss: 0.4753052459315236\n",
            "EPOCH: 500 Accuracy: 0.83 Loss: 0.3781184828381821\n",
            "EPOCH: 600 Accuracy: 0.6933333333333334 Loss: 0.8352798604827167\n",
            "EPOCH: 700 Accuracy: 0.75 Loss: 0.6705752844848485\n",
            "EPOCH: 800 Accuracy: 0.81 Loss: 0.5835380953669096\n",
            "EPOCH: 900 Accuracy: 0.82 Loss: 0.40758425662091385\n",
            "EPOCH: 1000 Accuracy: 0.71 Loss: 0.7647602566602193\n",
            "EPOCH: 1100 Accuracy: 0.8366666666666667 Loss: 0.4598992751166535\n",
            "EPOCH: 1200 Accuracy: 0.8366666666666667 Loss: 0.45717241558579164\n",
            "EPOCH: 1300 Accuracy: 0.8133333333333334 Loss: 0.47754140570762144\n",
            "EPOCH: 1400 Accuracy: 0.8233333333333334 Loss: 0.3832797698779022\n",
            "EPOCH: 1500 Accuracy: 0.81 Loss: 0.5012767060427312\n",
            "EPOCH: 1600 Accuracy: 0.5333333333333333 Loss: 2.9985113195632462\n",
            "EPOCH: 1700 Accuracy: 0.8166666666666667 Loss: 0.3949088072541592\n",
            "EPOCH: 1800 Accuracy: 0.81 Loss: 0.4759325009221316\n",
            "EPOCH: 1900 Accuracy: 0.82 Loss: 0.38941320579526456\n",
            "EPOCH: 2000 Accuracy: 0.8333333333333334 Loss: 0.45960417471836906\n",
            "EPOCH: 2100 Accuracy: 0.7966666666666666 Loss: 0.6055971279375784\n",
            "EPOCH: 2200 Accuracy: 0.8233333333333334 Loss: 0.4147267204383278\n",
            "EPOCH: 2300 Accuracy: 0.7633333333333333 Loss: 0.6008215650645368\n",
            "EPOCH: 2400 Accuracy: 0.73 Loss: 0.5033571869219624\n",
            "EPOCH: 2500 Accuracy: 0.8166666666666667 Loss: 0.4531357125067143\n",
            "EPOCH: 2600 Accuracy: 0.7833333333333333 Loss: 0.5392184482396746\n",
            "EPOCH: 2700 Accuracy: 0.8433333333333334 Loss: 0.4519561530854633\n",
            "EPOCH: 2800 Accuracy: 0.8366666666666667 Loss: 0.44488226160893535\n",
            "EPOCH: 2900 Accuracy: 0.8433333333333334 Loss: 0.4526169472867814\n",
            "EPOCH: 3000 Accuracy: 0.8233333333333334 Loss: 0.39500031942440583\n",
            "EPOCH: 3100 Accuracy: 0.8066666666666666 Loss: 0.4413859815741801\n",
            "EPOCH: 3200 Accuracy: 0.76 Loss: 0.6067029893051264\n",
            "EPOCH: 3300 Accuracy: 0.8133333333333334 Loss: 0.5471722438876199\n",
            "EPOCH: 3400 Accuracy: 0.8533333333333334 Loss: 0.42064539764905123\n",
            "EPOCH: 3500 Accuracy: 0.75 Loss: 0.7301894528272863\n",
            "EPOCH: 3600 Accuracy: 0.8166666666666667 Loss: 0.43827847459219027\n",
            "EPOCH: 3700 Accuracy: 0.8166666666666667 Loss: 0.4378883763817164\n",
            "EPOCH: 3800 Accuracy: 0.8233333333333334 Loss: 0.4176920816091321\n",
            "EPOCH: 3900 Accuracy: 0.8166666666666667 Loss: 0.4077941329796939\n",
            "EPOCH: 4000 Accuracy: 0.8033333333333333 Loss: 0.4197580223859554\n",
            "EPOCH: 4100 Accuracy: 0.82 Loss: 0.4330832785202201\n",
            "EPOCH: 4200 Accuracy: 0.8133333333333334 Loss: 0.5302035695061419\n",
            "EPOCH: 4300 Accuracy: 0.78 Loss: 0.670456422269771\n",
            "EPOCH: 4400 Accuracy: 0.8166666666666667 Loss: 0.4177253874491615\n",
            "EPOCH: 4500 Accuracy: 0.8233333333333334 Loss: 0.40174969326177784\n",
            "EPOCH: 4600 Accuracy: 0.81 Loss: 0.5114610977359993\n",
            "EPOCH: 4700 Accuracy: 0.8533333333333334 Loss: 0.40230170120997805\n",
            "EPOCH: 4800 Accuracy: 0.7933333333333333 Loss: 0.6557107947132238\n",
            "EPOCH: 4900 Accuracy: 0.8233333333333334 Loss: 0.5201805443476171\n",
            "EPOCH: 5000 Accuracy: 0.84 Loss: 0.4154840501357999\n",
            "EPOCH: 5100 Accuracy: 0.83 Loss: 0.3709960740506183\n",
            "EPOCH: 5200 Accuracy: 0.7966666666666666 Loss: 0.47952969094705783\n",
            "EPOCH: 5300 Accuracy: 0.66 Loss: 1.1486860700777517\n",
            "EPOCH: 5400 Accuracy: 0.8266666666666667 Loss: 0.48448238929439197\n",
            "EPOCH: 5500 Accuracy: 0.8433333333333334 Loss: 0.40423044799869845\n",
            "EPOCH: 5600 Accuracy: 0.69 Loss: 1.4192602694824148\n",
            "EPOCH: 5700 Accuracy: 0.81 Loss: 0.4862209451395326\n",
            "EPOCH: 5800 Accuracy: 0.8266666666666667 Loss: 0.379056820565415\n",
            "EPOCH: 5900 Accuracy: 0.85 Loss: 0.3143184614054203\n",
            "EPOCH: 6000 Accuracy: 0.6766666666666666 Loss: 1.2206801202125412\n",
            "EPOCH: 6100 Accuracy: 0.83 Loss: 0.37634750009036183\n",
            "EPOCH: 6200 Accuracy: 0.8233333333333334 Loss: 0.39153447128866947\n",
            "EPOCH: 6300 Accuracy: 0.8333333333333334 Loss: 0.35216776442107645\n",
            "EPOCH: 6400 Accuracy: 0.8433333333333334 Loss: 0.3446934322307746\n",
            "EPOCH: 6500 Accuracy: 0.8366666666666667 Loss: 0.3581461645352325\n",
            "EPOCH: 6600 Accuracy: 0.75 Loss: 0.6530059493993179\n",
            "EPOCH: 6700 Accuracy: 0.8466666666666667 Loss: 0.3441757339799804\n",
            "EPOCH: 6800 Accuracy: 0.8433333333333334 Loss: 0.34542434818059864\n",
            "EPOCH: 6900 Accuracy: 0.8533333333333334 Loss: 0.3386245205339562\n",
            "EPOCH: 7000 Accuracy: 0.84 Loss: 0.36041934943300236\n",
            "EPOCH: 7100 Accuracy: 0.8833333333333333 Loss: 0.27194718456816597\n",
            "EPOCH: 7200 Accuracy: 0.85 Loss: 0.33571812509286414\n",
            "EPOCH: 7300 Accuracy: 0.8633333333333333 Loss: 0.303146715831799\n",
            "EPOCH: 7400 Accuracy: 0.8133333333333334 Loss: 0.4345033400360767\n",
            "EPOCH: 7500 Accuracy: 0.8666666666666667 Loss: 0.2753367641338463\n",
            "EPOCH: 7600 Accuracy: 0.85 Loss: 0.2986666099280008\n",
            "EPOCH: 7700 Accuracy: 0.8133333333333334 Loss: 0.45645059085104045\n",
            "EPOCH: 7800 Accuracy: 0.8766666666666667 Loss: 0.26873648415294116\n",
            "EPOCH: 7900 Accuracy: 0.77 Loss: 0.6492154537628421\n",
            "EPOCH: 8000 Accuracy: 0.8766666666666667 Loss: 0.26313377413910133\n",
            "EPOCH: 8100 Accuracy: 0.8466666666666667 Loss: 0.31856149239706716\n",
            "EPOCH: 8200 Accuracy: 0.8733333333333333 Loss: 0.2654208772683787\n",
            "EPOCH: 8300 Accuracy: 0.83 Loss: 0.42035802995853844\n",
            "EPOCH: 8400 Accuracy: 0.8833333333333333 Loss: 0.25691126438485495\n",
            "EPOCH: 8500 Accuracy: 0.84 Loss: 0.35592955336764104\n",
            "EPOCH: 8600 Accuracy: 0.88 Loss: 0.25425575738907186\n",
            "EPOCH: 8700 Accuracy: 0.8766666666666667 Loss: 0.2571502285898432\n",
            "EPOCH: 8800 Accuracy: 0.8 Loss: 0.5119480506930021\n",
            "EPOCH: 8900 Accuracy: 0.8233333333333334 Loss: 0.47245277310694406\n",
            "EPOCH: 9000 Accuracy: 0.76 Loss: 0.7591350747292416\n",
            "EPOCH: 9100 Accuracy: 0.8833333333333333 Loss: 0.25413975665046307\n",
            "EPOCH: 9200 Accuracy: 0.8733333333333333 Loss: 0.353012045370273\n",
            "EPOCH: 9300 Accuracy: 0.88 Loss: 0.3321104532199559\n",
            "EPOCH: 9400 Accuracy: 0.88 Loss: 0.2983886420377019\n",
            "EPOCH: 9500 Accuracy: 0.88 Loss: 0.28768486044058095\n",
            "EPOCH: 9600 Accuracy: 0.8866666666666667 Loss: 0.34754804895439373\n",
            "EPOCH: 9700 Accuracy: 0.8833333333333333 Loss: 0.2769939280560556\n",
            "EPOCH: 9800 Accuracy: 0.88 Loss: 0.31049128785122976\n",
            "EPOCH: 9900 Accuracy: 0.8833333333333333 Loss: 0.2735923315354091\n"
          ]
        }
      ]
    },
    {
      "cell_type": "code",
      "source": [
        "print(predictions)\n"
      ],
      "metadata": {
        "colab": {
          "base_uri": "https://localhost:8080/"
        },
        "id": "D-8DmeMxD8tL",
        "outputId": "95119f2d-7220-4489-c240-276c245c56b5"
      },
      "execution_count": 71,
      "outputs": [
        {
          "output_type": "stream",
          "name": "stdout",
          "text": [
            "[0 0 0 1 1 0 0 0 0 0 0 0 0 1 0 0 0 0 0 0 0 0 0 0 0 0 0 0 0 0 2 0 0 0 0 0 0\n",
            " 0 0 0 0 0 0 0 0 0 0 0 0 0 0 0 0 0 0 0 0 0 0 0 0 2 0 0 0 0 0 0 0 0 0 0 2 0\n",
            " 0 0 0 0 0 0 0 0 0 0 0 0 0 0 0 0 0 0 0 0 0 0 0 0 0 0 0 0 1 0 1 1 1 1 1 1 1\n",
            " 1 1 1 1 1 1 1 1 1 1 1 1 1 1 1 1 1 1 1 1 1 1 1 1 1 1 1 1 1 1 1 1 1 1 1 1 1\n",
            " 1 1 1 1 1 1 1 1 1 1 1 1 1 1 1 1 1 1 1 1 1 1 1 1 1 1 1 1 1 1 1 1 1 1 1 1 1\n",
            " 1 1 1 1 1 1 1 1 1 1 1 1 1 1 1 0 0 0 0 0 0 0 0 0 0 2 0 0 2 2 0 0 0 2 2 2 2\n",
            " 2 2 0 2 2 2 2 0 0 2 0 2 2 2 2 0 2 2 2 2 2 2 2 2 2 0 2 2 2 2 2 2 2 2 2 2 2\n",
            " 2 0 2 0 2 0 0 0 0 2 2 2 2 0 0 2 2 2 2 2 2 2 2 2 2 2 0 2 2 2 0 2 2 2 0 2 0\n",
            " 2 0 2 2]\n"
          ]
        }
      ]
    },
    {
      "cell_type": "code",
      "source": [],
      "metadata": {
        "id": "9cLYtCXAEB5n"
      },
      "execution_count": 67,
      "outputs": []
    }
  ]
}